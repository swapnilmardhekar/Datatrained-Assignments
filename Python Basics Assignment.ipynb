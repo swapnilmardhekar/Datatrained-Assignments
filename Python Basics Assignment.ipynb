{
 "cells": [
  {
   "cell_type": "markdown",
   "id": "617829c4",
   "metadata": {},
   "source": [
    "\n"
   ]
  },
  {
   "cell_type": "markdown",
   "id": "2dce3094",
   "metadata": {},
   "source": [
    "Python Basics Assignment"
   ]
  },
  {
   "cell_type": "code",
   "execution_count": 53,
   "id": "5997397f",
   "metadata": {},
   "outputs": [
    {
     "data": {
      "text/plain": [
       "12"
      ]
     },
     "execution_count": 53,
     "metadata": {},
     "output_type": "execute_result"
    }
   ],
   "source": [
    "8+4"
   ]
  },
  {
   "cell_type": "code",
   "execution_count": 2,
   "id": "f754be8c",
   "metadata": {},
   "outputs": [
    {
     "data": {
      "text/plain": [
       "80"
      ]
     },
     "execution_count": 2,
     "metadata": {},
     "output_type": "execute_result"
    }
   ],
   "source": [
    "16*5"
   ]
  },
  {
   "cell_type": "code",
   "execution_count": 3,
   "id": "150b59a2",
   "metadata": {},
   "outputs": [
    {
     "data": {
      "text/plain": [
       "20"
      ]
     },
     "execution_count": 3,
     "metadata": {},
     "output_type": "execute_result"
    }
   ],
   "source": [
    "50-5*6"
   ]
  },
  {
   "cell_type": "code",
   "execution_count": 4,
   "id": "481020ba",
   "metadata": {},
   "outputs": [
    {
     "data": {
      "text/plain": [
       "5.0"
      ]
     },
     "execution_count": 4,
     "metadata": {},
     "output_type": "execute_result"
    }
   ],
   "source": [
    "(50-5*6)/4"
   ]
  },
  {
   "cell_type": "code",
   "execution_count": 5,
   "id": "a8d46031",
   "metadata": {},
   "outputs": [],
   "source": [
    "#This is my first program"
   ]
  },
  {
   "cell_type": "code",
   "execution_count": 8,
   "id": "1ad3ef4b",
   "metadata": {},
   "outputs": [
    {
     "name": "stdout",
     "output_type": "stream",
     "text": [
      "Hello World\n"
     ]
    }
   ],
   "source": [
    "# It prints the phrase \"Hello, World\"\n",
    "print(\"Hello World\")\n",
    "#comments are longer than the code!"
   ]
  },
  {
   "cell_type": "code",
   "execution_count": 10,
   "id": "66e8862e",
   "metadata": {},
   "outputs": [
    {
     "name": "stdout",
     "output_type": "stream",
     "text": [
      "Hello World of Python\n"
     ]
    }
   ],
   "source": [
    "greeting = \"Hello World of Python\"\n",
    "print(greeting)"
   ]
  },
  {
   "cell_type": "code",
   "execution_count": 11,
   "id": "9c22d807",
   "metadata": {},
   "outputs": [
    {
     "data": {
      "text/plain": [
       "1.6"
      ]
     },
     "execution_count": 11,
     "metadata": {},
     "output_type": "execute_result"
    }
   ],
   "source": [
    "8/5"
   ]
  },
  {
   "cell_type": "code",
   "execution_count": 12,
   "id": "fe00e78c",
   "metadata": {},
   "outputs": [
    {
     "data": {
      "text/plain": [
       "5.666666666666667"
      ]
     },
     "execution_count": 12,
     "metadata": {},
     "output_type": "execute_result"
    }
   ],
   "source": [
    "17/3"
   ]
  },
  {
   "cell_type": "code",
   "execution_count": 15,
   "id": "4f1a0e83",
   "metadata": {},
   "outputs": [
    {
     "data": {
      "text/plain": [
       "5"
      ]
     },
     "execution_count": 15,
     "metadata": {},
     "output_type": "execute_result"
    }
   ],
   "source": [
    "#floor div removed decimal\n",
    "17//3 "
   ]
  },
  {
   "cell_type": "code",
   "execution_count": 16,
   "id": "5d484ed2",
   "metadata": {},
   "outputs": [
    {
     "data": {
      "text/plain": [
       "2"
      ]
     },
     "execution_count": 16,
     "metadata": {},
     "output_type": "execute_result"
    }
   ],
   "source": [
    "#modulo printed remainder\n",
    "17%3"
   ]
  },
  {
   "cell_type": "code",
   "execution_count": 17,
   "id": "252a5e91",
   "metadata": {},
   "outputs": [
    {
     "data": {
      "text/plain": [
       "17"
      ]
     },
     "execution_count": 17,
     "metadata": {},
     "output_type": "execute_result"
    }
   ],
   "source": [
    "5 * 3 + 2"
   ]
  },
  {
   "cell_type": "code",
   "execution_count": 18,
   "id": "a292fc47",
   "metadata": {},
   "outputs": [
    {
     "data": {
      "text/plain": [
       "25"
      ]
     },
     "execution_count": 18,
     "metadata": {},
     "output_type": "execute_result"
    }
   ],
   "source": [
    "5**2"
   ]
  },
  {
   "cell_type": "code",
   "execution_count": 19,
   "id": "666fd7a2",
   "metadata": {},
   "outputs": [
    {
     "data": {
      "text/plain": [
       "128"
      ]
     },
     "execution_count": 19,
     "metadata": {},
     "output_type": "execute_result"
    }
   ],
   "source": [
    "2**7"
   ]
  },
  {
   "cell_type": "code",
   "execution_count": 20,
   "id": "36dbf954",
   "metadata": {},
   "outputs": [
    {
     "name": "stdout",
     "output_type": "stream",
     "text": [
      "20\n",
      "The value of width= 20\n",
      "The value of width= 20\n",
      "Area= 900\n"
     ]
    }
   ],
   "source": [
    "width = 20\n",
    "height = 5*9\n",
    "width * height\n",
    "print(width)\n",
    "print('The value of width=',width) # ''\n",
    "print(\"The value of width=\",width) # \"\"\n",
    "print(\"Area=\",width*height)"
   ]
  },
  {
   "cell_type": "code",
   "execution_count": 21,
   "id": "cfb952d8",
   "metadata": {},
   "outputs": [
    {
     "name": "stdout",
     "output_type": "stream",
     "text": [
      "Height= 45\n"
     ]
    }
   ],
   "source": [
    "print('Height=',height)"
   ]
  },
  {
   "cell_type": "code",
   "execution_count": 22,
   "id": "a9ed6ce3",
   "metadata": {},
   "outputs": [
    {
     "name": "stdout",
     "output_type": "stream",
     "text": [
      "1256.25\n"
     ]
    }
   ],
   "source": [
    "tax = 12.5\n",
    "price = 100.50\n",
    "print(price * tax)"
   ]
  },
  {
   "cell_type": "code",
   "execution_count": 23,
   "id": "f707f124",
   "metadata": {},
   "outputs": [
    {
     "name": "stdout",
     "output_type": "stream",
     "text": [
      "12.5\n"
     ]
    }
   ],
   "source": [
    "print(tax)"
   ]
  },
  {
   "cell_type": "code",
   "execution_count": 24,
   "id": "7026d525",
   "metadata": {},
   "outputs": [
    {
     "name": "stdout",
     "output_type": "stream",
     "text": [
      "100.5\n"
     ]
    }
   ],
   "source": [
    "print(price)"
   ]
  },
  {
   "cell_type": "code",
   "execution_count": 25,
   "id": "afea430b",
   "metadata": {},
   "outputs": [
    {
     "data": {
      "text/plain": [
       "'thesun'"
      ]
     },
     "execution_count": 25,
     "metadata": {},
     "output_type": "execute_result"
    }
   ],
   "source": [
    "'the'+'sun'"
   ]
  },
  {
   "cell_type": "code",
   "execution_count": 26,
   "id": "28db2017",
   "metadata": {},
   "outputs": [
    {
     "data": {
      "text/plain": [
       "'themoon'"
      ]
     },
     "execution_count": 26,
     "metadata": {},
     "output_type": "execute_result"
    }
   ],
   "source": [
    "'the'+'moon'"
   ]
  },
  {
   "cell_type": "code",
   "execution_count": 27,
   "id": "6667f6d5",
   "metadata": {},
   "outputs": [
    {
     "data": {
      "text/plain": [
       "'planetsuniverse'"
      ]
     },
     "execution_count": 27,
     "metadata": {},
     "output_type": "execute_result"
    }
   ],
   "source": [
    "'planets'+'universe'"
   ]
  },
  {
   "cell_type": "code",
   "execution_count": 28,
   "id": "66d3240e",
   "metadata": {},
   "outputs": [],
   "source": [
    "s1='Elon'\n",
    "s2='Musk'"
   ]
  },
  {
   "cell_type": "code",
   "execution_count": 29,
   "id": "942f4dd6",
   "metadata": {},
   "outputs": [],
   "source": [
    "magicstring=s1+s2"
   ]
  },
  {
   "cell_type": "code",
   "execution_count": 30,
   "id": "93e19bec",
   "metadata": {},
   "outputs": [
    {
     "data": {
      "text/plain": [
       "'ElonMusk'"
      ]
     },
     "execution_count": 30,
     "metadata": {},
     "output_type": "execute_result"
    }
   ],
   "source": [
    "magicstring"
   ]
  },
  {
   "cell_type": "code",
   "execution_count": 31,
   "id": "07ce7bb9",
   "metadata": {},
   "outputs": [],
   "source": [
    "firstname=\"Swapnil\"\n",
    "lastname=\"Mardhekar\"\n",
    "\n",
    "fullname=firstname+' '+lastname"
   ]
  },
  {
   "cell_type": "code",
   "execution_count": 32,
   "id": "345c4004",
   "metadata": {},
   "outputs": [
    {
     "data": {
      "text/plain": [
       "'Swapnil Mardhekar'"
      ]
     },
     "execution_count": 32,
     "metadata": {},
     "output_type": "execute_result"
    }
   ],
   "source": [
    "fullname"
   ]
  },
  {
   "cell_type": "code",
   "execution_count": 33,
   "id": "cb7736ee",
   "metadata": {},
   "outputs": [
    {
     "name": "stdout",
     "output_type": "stream",
     "text": [
      "HELLOWORLD\n"
     ]
    }
   ],
   "source": [
    "str1='HELLO'\n",
    "str2=\"WORLD\"\n",
    "print(str1+str2)"
   ]
  },
  {
   "cell_type": "code",
   "execution_count": 34,
   "id": "f38cab4d",
   "metadata": {},
   "outputs": [
    {
     "name": "stdout",
     "output_type": "stream",
     "text": [
      "HELLO WORLD\n"
     ]
    }
   ],
   "source": [
    "print(str1+' '+str2)"
   ]
  },
  {
   "cell_type": "code",
   "execution_count": 37,
   "id": "8cb52b68",
   "metadata": {},
   "outputs": [
    {
     "name": "stdout",
     "output_type": "stream",
     "text": [
      "hey,what's up?hello world\n",
      "You said: hello world\n"
     ]
    }
   ],
   "source": [
    "userinput = input(\"hey,what's up?\")\n",
    "\n",
    "print(\"You said: \" + userinput)"
   ]
  },
  {
   "cell_type": "code",
   "execution_count": 38,
   "id": "dfc67f75",
   "metadata": {},
   "outputs": [
    {
     "name": "stdout",
     "output_type": "stream",
     "text": [
      "hey,what's up? hello world\n",
      "You said: hello world\n"
     ]
    }
   ],
   "source": [
    "text = \"hey,what's up? \"\n",
    "userinput = input(text)\n",
    "\n",
    "print(\"You said: \" + userinput)"
   ]
  },
  {
   "cell_type": "code",
   "execution_count": 40,
   "id": "c491a502",
   "metadata": {},
   "outputs": [
    {
     "name": "stdout",
     "output_type": "stream",
     "text": [
      "Enter number for double 3\n",
      "6\n"
     ]
    }
   ],
   "source": [
    "n=int(input(\"Enter number for double \"))\n",
    "doublednum=n*2\n",
    "print(doublednum)"
   ]
  },
  {
   "cell_type": "code",
   "execution_count": 43,
   "id": "d6a529b1",
   "metadata": {},
   "outputs": [
    {
     "name": "stdout",
     "output_type": "stream",
     "text": [
      "Enter number for double 3\n",
      "6.0\n"
     ]
    }
   ],
   "source": [
    "n=int(input(\"Enter number for double \"))\n",
    "doublednum=float(n)*2  #changed type to float\n",
    "print(doublednum)"
   ]
  },
  {
   "cell_type": "code",
   "execution_count": 44,
   "id": "98082bf0",
   "metadata": {},
   "outputs": [
    {
     "name": "stdout",
     "output_type": "stream",
     "text": [
      "enter number32\n"
     ]
    }
   ],
   "source": [
    "n1=int(input(\"enter number\"))"
   ]
  },
  {
   "cell_type": "code",
   "execution_count": 45,
   "id": "190d3180",
   "metadata": {},
   "outputs": [
    {
     "name": "stdout",
     "output_type": "stream",
     "text": [
      "enter number33\n"
     ]
    }
   ],
   "source": [
    "n2=int(input(\"enter number\"))"
   ]
  },
  {
   "cell_type": "code",
   "execution_count": 46,
   "id": "f2a3a395",
   "metadata": {},
   "outputs": [
    {
     "name": "stdout",
     "output_type": "stream",
     "text": [
      "32 * 33 = 1056\n"
     ]
    }
   ],
   "source": [
    "print(n1,\"*\",n2,\"=\",n1*n2)"
   ]
  },
  {
   "cell_type": "code",
   "execution_count": 50,
   "id": "a135134d",
   "metadata": {},
   "outputs": [
    {
     "data": {
      "text/plain": [
       "10"
      ]
     },
     "execution_count": 50,
     "metadata": {},
     "output_type": "execute_result"
    }
   ],
   "source": [
    "string1=\"HelloWorld\"\n",
    "len(string1)"
   ]
  },
  {
   "cell_type": "code",
   "execution_count": 51,
   "id": "e95baf93",
   "metadata": {},
   "outputs": [
    {
     "data": {
      "text/plain": [
       "11"
      ]
     },
     "execution_count": 51,
     "metadata": {},
     "output_type": "execute_result"
    }
   ],
   "source": [
    "string1=\"Hello World\"\n",
    "len(string1)"
   ]
  },
  {
   "cell_type": "code",
   "execution_count": 47,
   "id": "a1518baf",
   "metadata": {},
   "outputs": [
    {
     "name": "stdout",
     "output_type": "stream",
     "text": [
      "enter principle200000\n",
      "enter rate10\n",
      "enter time5\n",
      "simple interest:  100000.0\n"
     ]
    }
   ],
   "source": [
    "#simple imterest\n",
    "p= int(input(\"enter principle\"))\n",
    "r= float(input(\"enter rate\"))\n",
    "t= float(input(\"enter time\"))\n",
    "\n",
    "si= (p*r*t)/100\n",
    "\n",
    "print(\"simple interest: \",si)"
   ]
  },
  {
   "cell_type": "code",
   "execution_count": 49,
   "id": "505e10eb",
   "metadata": {},
   "outputs": [
    {
     "name": "stdout",
     "output_type": "stream",
     "text": [
      "profit: 800 dollars\n"
     ]
    }
   ],
   "source": [
    "# exercise\n",
    "#Q: A travel company wants to fly a plane to the Bahamas. Flying the plane costs 5000 dollars. So far, 29 people have signed up for the trip. If the company charges 200 dollars per ticket, what is the profit made by the company? Create variables for each numeric quantity and use appropriate arithmetic operations.\n",
    "\n",
    "planecost= 5000\n",
    "passengers = 29\n",
    "ticket= 200\n",
    "\n",
    "earnings = passengers*ticket\n",
    "\n",
    "profit=earnings-planecost\n",
    "\n",
    "print(\"profit:\",profit,\"dollars\")"
   ]
  }
 ],
 "metadata": {
  "kernelspec": {
   "display_name": "Python 3 (ipykernel)",
   "language": "python",
   "name": "python3"
  },
  "language_info": {
   "codemirror_mode": {
    "name": "ipython",
    "version": 3
   },
   "file_extension": ".py",
   "mimetype": "text/x-python",
   "name": "python",
   "nbconvert_exporter": "python",
   "pygments_lexer": "ipython3",
   "version": "3.9.12"
  }
 },
 "nbformat": 4,
 "nbformat_minor": 5
}
