{
 "cells": [
  {
   "cell_type": "markdown",
   "id": "2113ce37",
   "metadata": {},
   "source": [
    "## String functions"
   ]
  },
  {
   "cell_type": "code",
   "execution_count": 60,
   "id": "2547f3dd",
   "metadata": {},
   "outputs": [
    {
     "data": {
      "text/plain": [
       "'tesla'"
      ]
     },
     "execution_count": 60,
     "metadata": {},
     "output_type": "execute_result"
    }
   ],
   "source": [
    "name = \"Tesla\"\n",
    "name.lower()"
   ]
  },
  {
   "cell_type": "code",
   "execution_count": 2,
   "id": "4a87bab9",
   "metadata": {},
   "outputs": [
    {
     "data": {
      "text/plain": [
       "'TESLA'"
      ]
     },
     "execution_count": 2,
     "metadata": {},
     "output_type": "execute_result"
    }
   ],
   "source": [
    "name.upper()"
   ]
  },
  {
   "cell_type": "code",
   "execution_count": 3,
   "id": "1b0c7d3c",
   "metadata": {},
   "outputs": [
    {
     "data": {
      "text/plain": [
       "5"
      ]
     },
     "execution_count": 3,
     "metadata": {},
     "output_type": "execute_result"
    }
   ],
   "source": [
    "len(name)"
   ]
  },
  {
   "cell_type": "code",
   "execution_count": 4,
   "id": "bb07736e",
   "metadata": {},
   "outputs": [
    {
     "data": {
      "text/plain": [
       "'Tesla'"
      ]
     },
     "execution_count": 4,
     "metadata": {},
     "output_type": "execute_result"
    }
   ],
   "source": [
    "name.capitalize()"
   ]
  },
  {
   "cell_type": "code",
   "execution_count": 5,
   "id": "6a8b5bd8",
   "metadata": {},
   "outputs": [
    {
     "data": {
      "text/plain": [
       "True"
      ]
     },
     "execution_count": 5,
     "metadata": {},
     "output_type": "execute_result"
    }
   ],
   "source": [
    "name.isalpha()"
   ]
  },
  {
   "cell_type": "code",
   "execution_count": 10,
   "id": "5fc104f7",
   "metadata": {},
   "outputs": [],
   "source": [
    "starship='Enterprise'"
   ]
  },
  {
   "cell_type": "code",
   "execution_count": 11,
   "id": "320e4c0e",
   "metadata": {},
   "outputs": [
    {
     "data": {
      "text/plain": [
       "'Enterprise'"
      ]
     },
     "execution_count": 11,
     "metadata": {},
     "output_type": "execute_result"
    }
   ],
   "source": [
    "starship"
   ]
  },
  {
   "cell_type": "code",
   "execution_count": 12,
   "id": "b0bc509b",
   "metadata": {},
   "outputs": [
    {
     "data": {
      "text/plain": [
       "False"
      ]
     },
     "execution_count": 12,
     "metadata": {},
     "output_type": "execute_result"
    }
   ],
   "source": [
    "starship.startswith(\"en\")"
   ]
  },
  {
   "cell_type": "code",
   "execution_count": 13,
   "id": "33b6dc73",
   "metadata": {},
   "outputs": [
    {
     "data": {
      "text/plain": [
       "True"
      ]
     },
     "execution_count": 13,
     "metadata": {},
     "output_type": "execute_result"
    }
   ],
   "source": [
    "starship.endswith(\"rise\")"
   ]
  },
  {
   "cell_type": "code",
   "execution_count": 15,
   "id": "4ec8912e",
   "metadata": {},
   "outputs": [],
   "source": [
    "#string mutability\n",
    "string = \"Welcome Sir \""
   ]
  },
  {
   "cell_type": "code",
   "execution_count": 16,
   "id": "e58e44a0",
   "metadata": {},
   "outputs": [
    {
     "data": {
      "text/plain": [
       "'Welcome Sir '"
      ]
     },
     "execution_count": 16,
     "metadata": {},
     "output_type": "execute_result"
    }
   ],
   "source": [
    "string"
   ]
  },
  {
   "cell_type": "code",
   "execution_count": 17,
   "id": "79fef8a3",
   "metadata": {},
   "outputs": [
    {
     "name": "stdout",
     "output_type": "stream",
     "text": [
      "GoodBye Sir \n"
     ]
    }
   ],
   "source": [
    "print(string.replace(\"Welcome\",\"GoodBye\"))"
   ]
  },
  {
   "cell_type": "code",
   "execution_count": 18,
   "id": "2a8180ec",
   "metadata": {},
   "outputs": [],
   "source": [
    "txt = 'I like Bananas'"
   ]
  },
  {
   "cell_type": "code",
   "execution_count": 20,
   "id": "345fa15c",
   "metadata": {},
   "outputs": [
    {
     "name": "stdout",
     "output_type": "stream",
     "text": [
      "I like apples\n"
     ]
    }
   ],
   "source": [
    "a = txt.replace(\"Bananas\", \"apples\")\n",
    "print(a)"
   ]
  },
  {
   "cell_type": "code",
   "execution_count": 21,
   "id": "4de8f17e",
   "metadata": {},
   "outputs": [],
   "source": [
    "z = \"the surprise is in here somewhere\""
   ]
  },
  {
   "cell_type": "code",
   "execution_count": 22,
   "id": "c5f9b59e",
   "metadata": {},
   "outputs": [
    {
     "data": {
      "text/plain": [
       "4"
      ]
     },
     "execution_count": 22,
     "metadata": {},
     "output_type": "execute_result"
    }
   ],
   "source": [
    "z.find(\"surprise\")"
   ]
  },
  {
   "cell_type": "code",
   "execution_count": 23,
   "id": "27798771",
   "metadata": {},
   "outputs": [],
   "source": [
    "text = \"Hello World DataTrained\""
   ]
  },
  {
   "cell_type": "code",
   "execution_count": 24,
   "id": "249e235a",
   "metadata": {},
   "outputs": [
    {
     "data": {
      "text/plain": [
       "'Hello World DataTrained'"
      ]
     },
     "execution_count": 24,
     "metadata": {},
     "output_type": "execute_result"
    }
   ],
   "source": [
    "text"
   ]
  },
  {
   "cell_type": "code",
   "execution_count": 26,
   "id": "54c19d78",
   "metadata": {},
   "outputs": [
    {
     "name": "stdout",
     "output_type": "stream",
     "text": [
      "['Hello', 'World', 'DataTrained']\n"
     ]
    }
   ],
   "source": [
    "#splitting\n",
    "print(text.split())"
   ]
  },
  {
   "cell_type": "code",
   "execution_count": 27,
   "id": "7dcbbab1",
   "metadata": {},
   "outputs": [],
   "source": [
    "text = \"Hello,World, DataTrained\""
   ]
  },
  {
   "cell_type": "code",
   "execution_count": 28,
   "id": "3873abec",
   "metadata": {},
   "outputs": [
    {
     "name": "stdout",
     "output_type": "stream",
     "text": [
      "['Hello,World', 'DataTrained']\n"
     ]
    }
   ],
   "source": [
    "print(text.split(\", \"))"
   ]
  },
  {
   "cell_type": "code",
   "execution_count": 37,
   "id": "18e7d07d",
   "metadata": {},
   "outputs": [
    {
     "name": "stdout",
     "output_type": "stream",
     "text": [
      "['Hello,World, DataTrained']\n"
     ]
    }
   ],
   "source": [
    "print(text.split(\":\"))"
   ]
  },
  {
   "cell_type": "code",
   "execution_count": 38,
   "id": "2e3bc189",
   "metadata": {},
   "outputs": [],
   "source": [
    "#task 1"
   ]
  },
  {
   "cell_type": "code",
   "execution_count": 31,
   "id": "259c0486",
   "metadata": {},
   "outputs": [
    {
     "data": {
      "text/plain": [
       "'animals'"
      ]
     },
     "execution_count": 31,
     "metadata": {},
     "output_type": "execute_result"
    }
   ],
   "source": [
    "name= \"Animals\"\n",
    "name.lower()"
   ]
  },
  {
   "cell_type": "code",
   "execution_count": 33,
   "id": "02f609b1",
   "metadata": {},
   "outputs": [
    {
     "data": {
      "text/plain": [
       "'badger'"
      ]
     },
     "execution_count": 33,
     "metadata": {},
     "output_type": "execute_result"
    }
   ],
   "source": [
    "name=\"Badger\"\n",
    "name.lower()"
   ]
  },
  {
   "cell_type": "code",
   "execution_count": 34,
   "id": "75c6aa54",
   "metadata": {},
   "outputs": [],
   "source": [
    "name=\"Honey Bee\""
   ]
  },
  {
   "cell_type": "code",
   "execution_count": 35,
   "id": "aed1e41c",
   "metadata": {},
   "outputs": [
    {
     "data": {
      "text/plain": [
       "'honey bee'"
      ]
     },
     "execution_count": 35,
     "metadata": {},
     "output_type": "execute_result"
    }
   ],
   "source": [
    "name.lower()"
   ]
  },
  {
   "cell_type": "code",
   "execution_count": 36,
   "id": "46943522",
   "metadata": {},
   "outputs": [
    {
     "data": {
      "text/plain": [
       "'honey badger'"
      ]
     },
     "execution_count": 36,
     "metadata": {},
     "output_type": "execute_result"
    }
   ],
   "source": [
    "name=\"Honey Badger\"\n",
    "name.lower()"
   ]
  },
  {
   "cell_type": "code",
   "execution_count": 39,
   "id": "0ac12172",
   "metadata": {},
   "outputs": [
    {
     "data": {
      "text/plain": [
       "False"
      ]
     },
     "execution_count": 39,
     "metadata": {},
     "output_type": "execute_result"
    }
   ],
   "source": [
    "# 2\n",
    "string1 = \"Becomes\"\n",
    "string1.startswith(\"be\")"
   ]
  },
  {
   "cell_type": "code",
   "execution_count": 40,
   "id": "b9793a6c",
   "metadata": {},
   "outputs": [
    {
     "data": {
      "text/plain": [
       "True"
      ]
     },
     "execution_count": 40,
     "metadata": {},
     "output_type": "execute_result"
    }
   ],
   "source": [
    "string2 = \"becomes\"\n",
    "string2.startswith(\"be\")"
   ]
  },
  {
   "cell_type": "code",
   "execution_count": 41,
   "id": "a5738a7a",
   "metadata": {},
   "outputs": [
    {
     "data": {
      "text/plain": [
       "False"
      ]
     },
     "execution_count": 41,
     "metadata": {},
     "output_type": "execute_result"
    }
   ],
   "source": [
    "string3 = \"BEAR\"\n",
    "string3.startswith(\"be\")"
   ]
  },
  {
   "cell_type": "code",
   "execution_count": 42,
   "id": "3248a1da",
   "metadata": {},
   "outputs": [
    {
     "data": {
      "text/plain": [
       "False"
      ]
     },
     "execution_count": 42,
     "metadata": {},
     "output_type": "execute_result"
    }
   ],
   "source": [
    "string4 = \" bEautiful\"\n",
    "string4.startswith(\"be\")"
   ]
  },
  {
   "cell_type": "code",
   "execution_count": 45,
   "id": "c65d115b",
   "metadata": {},
   "outputs": [],
   "source": [
    "# 3\n",
    "string1=string1.lower()"
   ]
  },
  {
   "cell_type": "code",
   "execution_count": 46,
   "id": "39a09fa4",
   "metadata": {},
   "outputs": [
    {
     "data": {
      "text/plain": [
       "True"
      ]
     },
     "execution_count": 46,
     "metadata": {},
     "output_type": "execute_result"
    }
   ],
   "source": [
    "string1.startswith(\"be\")"
   ]
  },
  {
   "cell_type": "code",
   "execution_count": 47,
   "id": "fc767f38",
   "metadata": {},
   "outputs": [],
   "source": [
    "string2=string2.lower()"
   ]
  },
  {
   "cell_type": "code",
   "execution_count": 48,
   "id": "61c3c24a",
   "metadata": {},
   "outputs": [
    {
     "data": {
      "text/plain": [
       "True"
      ]
     },
     "execution_count": 48,
     "metadata": {},
     "output_type": "execute_result"
    }
   ],
   "source": [
    "string2.startswith(\"be\")"
   ]
  },
  {
   "cell_type": "code",
   "execution_count": 50,
   "id": "863a6285",
   "metadata": {},
   "outputs": [
    {
     "data": {
      "text/plain": [
       "True"
      ]
     },
     "execution_count": 50,
     "metadata": {},
     "output_type": "execute_result"
    }
   ],
   "source": [
    "string3=string2.lower()\n",
    "string3.startswith(\"be\")"
   ]
  },
  {
   "cell_type": "code",
   "execution_count": 52,
   "id": "039c9c42",
   "metadata": {},
   "outputs": [
    {
     "data": {
      "text/plain": [
       "True"
      ]
     },
     "execution_count": 52,
     "metadata": {},
     "output_type": "execute_result"
    }
   ],
   "source": [
    "string4=string1.lower()\n",
    "string4.startswith(\"be\")"
   ]
  },
  {
   "cell_type": "code",
   "execution_count": 53,
   "id": "9cb7ec0c",
   "metadata": {},
   "outputs": [
    {
     "name": "stdout",
     "output_type": "stream",
     "text": [
      "enter your nameswapnil\n"
     ]
    }
   ],
   "source": [
    "#4\n",
    "input1= input('enter your name')"
   ]
  },
  {
   "cell_type": "code",
   "execution_count": 54,
   "id": "02e06177",
   "metadata": {},
   "outputs": [
    {
     "name": "stdout",
     "output_type": "stream",
     "text": [
      "swapnil\n"
     ]
    }
   ],
   "source": [
    "print(input1)"
   ]
  },
  {
   "cell_type": "code",
   "execution_count": 55,
   "id": "746572cf",
   "metadata": {},
   "outputs": [
    {
     "name": "stdout",
     "output_type": "stream",
     "text": [
      "enter your nameSWAPNIL\n"
     ]
    }
   ],
   "source": [
    "#5\n",
    "input2= input('enter your name')"
   ]
  },
  {
   "cell_type": "code",
   "execution_count": 57,
   "id": "725fa825",
   "metadata": {},
   "outputs": [
    {
     "name": "stdout",
     "output_type": "stream",
     "text": [
      "swapnil\n"
     ]
    }
   ],
   "source": [
    "print(input2.lower())"
   ]
  },
  {
   "cell_type": "code",
   "execution_count": 58,
   "id": "47f3d78e",
   "metadata": {},
   "outputs": [
    {
     "name": "stdout",
     "output_type": "stream",
     "text": [
      "enter your name Swapnil\n"
     ]
    }
   ],
   "source": [
    "#6\n",
    "input3= input('enter your name ')"
   ]
  },
  {
   "cell_type": "code",
   "execution_count": 59,
   "id": "eb811d80",
   "metadata": {},
   "outputs": [
    {
     "name": "stdout",
     "output_type": "stream",
     "text": [
      "7\n"
     ]
    }
   ],
   "source": [
    "print(len(input3))"
   ]
  }
 ],
 "metadata": {
  "kernelspec": {
   "display_name": "Python 3 (ipykernel)",
   "language": "python",
   "name": "python3"
  },
  "language_info": {
   "codemirror_mode": {
    "name": "ipython",
    "version": 3
   },
   "file_extension": ".py",
   "mimetype": "text/x-python",
   "name": "python",
   "nbconvert_exporter": "python",
   "pygments_lexer": "ipython3",
   "version": "3.9.12"
  }
 },
 "nbformat": 4,
 "nbformat_minor": 5
}
